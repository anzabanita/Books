{
  "nbformat": 4,
  "nbformat_minor": 0,
  "metadata": {
    "colab": {
      "provenance": [],
      "authorship_tag": "ABX9TyNtCs6lJsZxJnf+nNfx8382",
      "include_colab_link": true
    },
    "kernelspec": {
      "name": "python3",
      "display_name": "Python 3"
    },
    "language_info": {
      "name": "python"
    }
  },
  "cells": [
    {
      "cell_type": "markdown",
      "metadata": {
        "id": "view-in-github",
        "colab_type": "text"
      },
      "source": [
        "<a href=\"https://colab.research.google.com/github/anzabanita/Books/blob/master/Python_Basics.ipynb\" target=\"_parent\"><img src=\"https://colab.research.google.com/assets/colab-badge.svg\" alt=\"Open In Colab\"/></a>"
      ]
    },
    {
      "cell_type": "code",
      "execution_count": 1,
      "metadata": {
        "colab": {
          "base_uri": "https://localhost:8080/"
        },
        "id": "aXPj_C5TBraF",
        "outputId": "d9c3bc51-1f73-43e5-9a8c-453b5828e30f"
      },
      "outputs": [
        {
          "output_type": "execute_result",
          "data": {
            "text/plain": [
              "int"
            ]
          },
          "metadata": {},
          "execution_count": 1
        }
      ],
      "source": [
        "x =1\n",
        "type (x)\n"
      ]
    },
    {
      "cell_type": "code",
      "source": [
        "var = \"Hello World\"\n",
        "type (var)"
      ],
      "metadata": {
        "colab": {
          "base_uri": "https://localhost:8080/"
        },
        "id": "wnXYFNmCBzmC",
        "outputId": "0fbbce19-395f-4c7f-dac8-8c5f4cfc1488"
      },
      "execution_count": 2,
      "outputs": [
        {
          "output_type": "execute_result",
          "data": {
            "text/plain": [
              "str"
            ]
          },
          "metadata": {},
          "execution_count": 2
        }
      ]
    },
    {
      "cell_type": "code",
      "source": [
        "x= 2+3j\n",
        "type (x)"
      ],
      "metadata": {
        "colab": {
          "base_uri": "https://localhost:8080/"
        },
        "id": "QFgONuLtCaOO",
        "outputId": "bffce560-a9f2-4e93-d09a-a1cb3e9564a8"
      },
      "execution_count": 4,
      "outputs": [
        {
          "output_type": "execute_result",
          "data": {
            "text/plain": [
              "complex"
            ]
          },
          "metadata": {},
          "execution_count": 4
        }
      ]
    },
    {
      "cell_type": "code",
      "source": [],
      "metadata": {
        "id": "eVqLq1sDCuc-"
      },
      "execution_count": null,
      "outputs": []
    },
    {
      "cell_type": "code",
      "source": [
        "y = 1.5888\n",
        "type(y)"
      ],
      "metadata": {
        "colab": {
          "base_uri": "https://localhost:8080/"
        },
        "id": "gQbOwqgkC553",
        "outputId": "e7220e7c-a65f-47d7-9164-e3bf2d490329"
      },
      "execution_count": 5,
      "outputs": [
        {
          "output_type": "execute_result",
          "data": {
            "text/plain": [
              "float"
            ]
          },
          "metadata": {},
          "execution_count": 5
        }
      ]
    },
    {
      "cell_type": "code",
      "source": [
        "dir (str)"
      ],
      "metadata": {
        "colab": {
          "base_uri": "https://localhost:8080/"
        },
        "id": "8EqHnpRzDFUQ",
        "outputId": "55c316b6-6d26-4972-b2b6-7c219648c5cd"
      },
      "execution_count": 6,
      "outputs": [
        {
          "output_type": "execute_result",
          "data": {
            "text/plain": [
              "['__add__',\n",
              " '__class__',\n",
              " '__contains__',\n",
              " '__delattr__',\n",
              " '__dir__',\n",
              " '__doc__',\n",
              " '__eq__',\n",
              " '__format__',\n",
              " '__ge__',\n",
              " '__getattribute__',\n",
              " '__getitem__',\n",
              " '__getnewargs__',\n",
              " '__gt__',\n",
              " '__hash__',\n",
              " '__init__',\n",
              " '__init_subclass__',\n",
              " '__iter__',\n",
              " '__le__',\n",
              " '__len__',\n",
              " '__lt__',\n",
              " '__mod__',\n",
              " '__mul__',\n",
              " '__ne__',\n",
              " '__new__',\n",
              " '__reduce__',\n",
              " '__reduce_ex__',\n",
              " '__repr__',\n",
              " '__rmod__',\n",
              " '__rmul__',\n",
              " '__setattr__',\n",
              " '__sizeof__',\n",
              " '__str__',\n",
              " '__subclasshook__',\n",
              " 'capitalize',\n",
              " 'casefold',\n",
              " 'center',\n",
              " 'count',\n",
              " 'encode',\n",
              " 'endswith',\n",
              " 'expandtabs',\n",
              " 'find',\n",
              " 'format',\n",
              " 'format_map',\n",
              " 'index',\n",
              " 'isalnum',\n",
              " 'isalpha',\n",
              " 'isascii',\n",
              " 'isdecimal',\n",
              " 'isdigit',\n",
              " 'isidentifier',\n",
              " 'islower',\n",
              " 'isnumeric',\n",
              " 'isprintable',\n",
              " 'isspace',\n",
              " 'istitle',\n",
              " 'isupper',\n",
              " 'join',\n",
              " 'ljust',\n",
              " 'lower',\n",
              " 'lstrip',\n",
              " 'maketrans',\n",
              " 'partition',\n",
              " 'removeprefix',\n",
              " 'removesuffix',\n",
              " 'replace',\n",
              " 'rfind',\n",
              " 'rindex',\n",
              " 'rjust',\n",
              " 'rpartition',\n",
              " 'rsplit',\n",
              " 'rstrip',\n",
              " 'split',\n",
              " 'splitlines',\n",
              " 'startswith',\n",
              " 'strip',\n",
              " 'swapcase',\n",
              " 'title',\n",
              " 'translate',\n",
              " 'upper',\n",
              " 'zfill']"
            ]
          },
          "metadata": {},
          "execution_count": 6
        }
      ]
    },
    {
      "cell_type": "code",
      "source": [
        "var = \"Hello World\"\n",
        "var.upper()"
      ],
      "metadata": {
        "colab": {
          "base_uri": "https://localhost:8080/",
          "height": 35
        },
        "id": "uSOoJ551DSCS",
        "outputId": "c2c58100-419a-4a75-b72c-2e19c6b3af38"
      },
      "execution_count": 7,
      "outputs": [
        {
          "output_type": "execute_result",
          "data": {
            "text/plain": [
              "'HELLO WORLD'"
            ],
            "application/vnd.google.colaboratory.intrinsic+json": {
              "type": "string"
            }
          },
          "metadata": {},
          "execution_count": 7
        }
      ]
    },
    {
      "cell_type": "code",
      "source": [
        "print(\" Welcome to Python World\")"
      ],
      "metadata": {
        "colab": {
          "base_uri": "https://localhost:8080/"
        },
        "id": "SFj0pa8dkwA4",
        "outputId": "946a74bf-544d-4098-bc09-f3b0fd5e2619"
      },
      "execution_count": 13,
      "outputs": [
        {
          "output_type": "stream",
          "name": "stdout",
          "text": [
            " Welcome to Python World\n"
          ]
        }
      ]
    },
    {
      "cell_type": "code",
      "source": [
        "# This is a comment-single line comment\n",
        "\n",
        "\"\"\"This is a multi line comment\"\"\""
      ],
      "metadata": {
        "colab": {
          "base_uri": "https://localhost:8080/",
          "height": 35
        },
        "id": "mIG82-hUk7Ab",
        "outputId": "d42e9b77-a15a-47fa-f154-8193ed2c429e"
      },
      "execution_count": 15,
      "outputs": [
        {
          "output_type": "execute_result",
          "data": {
            "text/plain": [
              "'This is a multi line comment'"
            ],
            "application/vnd.google.colaboratory.intrinsic+json": {
              "type": "string"
            }
          },
          "metadata": {},
          "execution_count": 15
        }
      ]
    },
    {
      "cell_type": "code",
      "source": [],
      "metadata": {
        "id": "4E1MrCaxpXZF"
      },
      "execution_count": null,
      "outputs": []
    },
    {
      "cell_type": "code",
      "source": [
        "#Python Data Types\n",
        "#Numerical Data Types: int(5, 1000, -96), float(56.32, -10.34)\n",
        "#String: str(' 'This is a string)\n",
        "#Bool: True/False\n",
        "#Collection Data Types (sequences): list, tuple, dict, set\n",
        "#Dynamic Typing\n"
      ],
      "metadata": {
        "id": "J06JvCQDmPvQ"
      },
      "execution_count": null,
      "outputs": []
    },
    {
      "cell_type": "code",
      "source": [
        "age=45\n",
        "print(age)\n",
        "print(type(age))"
      ],
      "metadata": {
        "colab": {
          "base_uri": "https://localhost:8080/"
        },
        "id": "H6EBAa9mpYoj",
        "outputId": "d3cc7163-46c8-4675-975a-2f1fd1cea6e4"
      },
      "execution_count": 18,
      "outputs": [
        {
          "output_type": "stream",
          "name": "stdout",
          "text": [
            "45\n",
            "<class 'int'>\n"
          ]
        }
      ]
    },
    {
      "cell_type": "code",
      "source": [
        "roi=12.99\n",
        "print(roi)\n",
        "print(type(roi))"
      ],
      "metadata": {
        "colab": {
          "base_uri": "https://localhost:8080/"
        },
        "id": "6cY2VccdpnOC",
        "outputId": "0b74b8d9-92d8-4e00-eeb4-6f72bd8c43cb"
      },
      "execution_count": 19,
      "outputs": [
        {
          "output_type": "stream",
          "name": "stdout",
          "text": [
            "12.99\n",
            "<class 'float'>\n"
          ]
        }
      ]
    },
    {
      "cell_type": "code",
      "source": [
        "#name=\"Inshuti Nya Nshuti\"\n",
        "name='Inhuti Nya Nshuti'\n",
        "print(name)\n",
        "print(type(name))"
      ],
      "metadata": {
        "colab": {
          "base_uri": "https://localhost:8080/"
        },
        "id": "VAZopPLyqMNr",
        "outputId": "27b244ee-7e56-4b6c-e9d1-4a12a80c8417"
      },
      "execution_count": 21,
      "outputs": [
        {
          "output_type": "stream",
          "name": "stdout",
          "text": [
            "Inhuti Nya Nshuti\n",
            "<class 'str'>\n"
          ]
        }
      ]
    },
    {
      "cell_type": "code",
      "source": [
        "st='The \"Sun\" is rising in east'\n",
        "print(st)\n",
        "print(type(st))\n"
      ],
      "metadata": {
        "colab": {
          "base_uri": "https://localhost:8080/"
        },
        "id": "9ZHYUL41qiLL",
        "outputId": "9726961f-2d20-4e6a-cdf6-d7d7031c0dbf"
      },
      "execution_count": 22,
      "outputs": [
        {
          "output_type": "stream",
          "name": "stdout",
          "text": [
            "The \"Sun\" is rising in east\n",
            "<class 'str'>\n"
          ]
        }
      ]
    },
    {
      "cell_type": "code",
      "source": [
        "#Dynamic Typing\n",
        "var=100\n",
        "print(var)\n",
        "print(type(var))\n",
        "var=\"Python\"\n",
        "print(var)\n",
        "print(type(var))"
      ],
      "metadata": {
        "colab": {
          "base_uri": "https://localhost:8080/"
        },
        "id": "gBh9Tdz1rHKI",
        "outputId": "8c7f29f7-40f6-48b6-d2ba-bdf70961bba0"
      },
      "execution_count": 23,
      "outputs": [
        {
          "output_type": "stream",
          "name": "stdout",
          "text": [
            "100\n",
            "<class 'int'>\n",
            "Python\n",
            "<class 'str'>\n"
          ]
        }
      ]
    },
    {
      "cell_type": "code",
      "source": [
        "var=True\n",
        "print(var)\n",
        "print(type(var))"
      ],
      "metadata": {
        "colab": {
          "base_uri": "https://localhost:8080/"
        },
        "id": "qaFJAfsurqFX",
        "outputId": "c57cdd9d-b948-469d-88ba-94dec63e085b"
      },
      "execution_count": 24,
      "outputs": [
        {
          "output_type": "stream",
          "name": "stdout",
          "text": [
            "True\n",
            "<class 'bool'>\n"
          ]
        }
      ]
    },
    {
      "cell_type": "code",
      "source": [
        "var=34.56\n",
        "print(var)\n",
        "print(type(var))"
      ],
      "metadata": {
        "colab": {
          "base_uri": "https://localhost:8080/"
        },
        "id": "Faf2zxO0rzi4",
        "outputId": "59a21510-575e-4477-9605-068b801b7e2b"
      },
      "execution_count": 25,
      "outputs": [
        {
          "output_type": "stream",
          "name": "stdout",
          "text": [
            "34.56\n",
            "<class 'float'>\n"
          ]
        }
      ]
    },
    {
      "cell_type": "code",
      "source": [
        "#Rule of Variables in Python\n",
        "#No -, special character, Number allowed, ==> Invalid syntax\n",
        "myvar=45\n",
        "my_var=45\n",
        "_my_var=45\n",
        "myVar=45\n",
        "MYVAR=45\n",
        "myvar2=45"
      ],
      "metadata": {
        "id": "6gwYxcqbsGHo"
      },
      "execution_count": null,
      "outputs": []
    },
    {
      "cell_type": "code",
      "source": [
        "#Operators in Python a+b\n",
        "#Arthmetical Operators: +, -, /, *, //, %(module), **(power)\n",
        "print(10+55)  # Additional Operation\n",
        "print(45/8)   # Division Operation\n",
        "print(45//8)   #Floor Division only int part\n",
        "print(45%8 )   # Remainder of division\n",
        "print(78*6)   # Multiplication\n",
        "print(10**3)  #x^y\n",
        "\n"
      ],
      "metadata": {
        "colab": {
          "base_uri": "https://localhost:8080/"
        },
        "id": "t8cp3vEOs_q6",
        "outputId": "e57b8937-601b-408e-c433-c192bc9a70f3"
      },
      "execution_count": 30,
      "outputs": [
        {
          "output_type": "stream",
          "name": "stdout",
          "text": [
            "65\n",
            "5.625\n",
            "5\n",
            "5\n",
            "468\n",
            "1000\n"
          ]
        }
      ]
    },
    {
      "cell_type": "code",
      "source": [
        "#Round off\n",
        "print(round(45.23698,2))\n",
        "print(round(10.725,2))"
      ],
      "metadata": {
        "colab": {
          "base_uri": "https://localhost:8080/"
        },
        "id": "6JtIYFSpt9k0",
        "outputId": "8fe46c2a-c574-4c2e-fc16-a68647aa0ebd"
      },
      "execution_count": 32,
      "outputs": [
        {
          "output_type": "stream",
          "name": "stdout",
          "text": [
            "45.24\n",
            "10.72\n"
          ]
        }
      ]
    },
    {
      "cell_type": "code",
      "source": [],
      "metadata": {
        "id": "qamkvgqC2M0g"
      },
      "execution_count": null,
      "outputs": []
    },
    {
      "cell_type": "code",
      "source": [
        "#Assignment Operators\n",
        "# =, +=, -=, *=, /=, %=, //=, **=\n",
        "salary=45000\n",
        "salary+=10000   #a+=b   a=a+b\n",
        "print(salary)\n"
      ],
      "metadata": {
        "colab": {
          "base_uri": "https://localhost:8080/"
        },
        "id": "ZS7PMx92wi-d",
        "outputId": "b178aacf-701f-4974-830c-45374e2a14e9"
      },
      "execution_count": 33,
      "outputs": [
        {
          "output_type": "stream",
          "name": "stdout",
          "text": [
            "55000\n"
          ]
        }
      ]
    },
    {
      "cell_type": "code",
      "source": [
        "#Relational/Comparison Operator >,<, <=, >=, ==, !=(not equal)\n",
        "age=45\n",
        "print(age>18)   #True\n",
        "print(age<18)\n",
        "print(age>=18)\n",
        "print(age<=18)\n",
        "print(age==18)   #age=18 assignment\n",
        "print(age!=18)   # not equal 18"
      ],
      "metadata": {
        "colab": {
          "base_uri": "https://localhost:8080/"
        },
        "id": "kHzT8Xnp1t_T",
        "outputId": "5cd0ad7e-94ad-426a-995e-864be734904d"
      },
      "execution_count": 34,
      "outputs": [
        {
          "output_type": "stream",
          "name": "stdout",
          "text": [
            "True\n",
            "False\n",
            "True\n",
            "False\n",
            "False\n",
            "True\n"
          ]
        }
      ]
    },
    {
      "cell_type": "code",
      "source": [
        "#Logical Operators, allows to check multple Operators\n",
        "age=70\n",
        "print(age>18 and age <60)\n",
        "print(age>18 or age <60)      # One of the conditon is True ==> True\n",
        "print(not(age>18 or age <60))\n",
        "print(not(age>18 and age <60))\n"
      ],
      "metadata": {
        "colab": {
          "base_uri": "https://localhost:8080/"
        },
        "id": "RdIEpOKI2OGD",
        "outputId": "7d014743-b3a4-4495-e388-e29fbb66a095"
      },
      "execution_count": 36,
      "outputs": [
        {
          "output_type": "stream",
          "name": "stdout",
          "text": [
            "False\n",
            "True\n",
            "False\n",
            "True\n"
          ]
        }
      ]
    },
    {
      "cell_type": "code",
      "source": [
        "#Flow control Statements: Conditional Statements and Loops\n",
        "#Conditional Statements: if , else, elif, nested statement\n",
        "\n",
        "#Check number is even or odd?\n",
        "num=10\n",
        "if num%2==0:\n",
        "    print(\"Even\")\n",
        "else:\n",
        "    print(\"Odd\")\n"
      ],
      "metadata": {
        "colab": {
          "base_uri": "https://localhost:8080/"
        },
        "id": "QyHOs_6y3g3e",
        "outputId": "30807d50-ba20-46db-d432-5ade130cc85a"
      },
      "execution_count": 37,
      "outputs": [
        {
          "output_type": "stream",
          "name": "stdout",
          "text": [
            "Even\n"
          ]
        }
      ]
    },
    {
      "cell_type": "code",
      "source": [
        "#Check number is even or odd?\n",
        "num=17\n",
        "if num%2==0:\n",
        "    print(\"Even\")\n",
        "else:\n",
        "    print(\"Odd\")"
      ],
      "metadata": {
        "colab": {
          "base_uri": "https://localhost:8080/"
        },
        "id": "Ac_1g0i65P3u",
        "outputId": "11432d16-4cde-4bc1-96ee-00f61427f3b7"
      },
      "execution_count": 38,
      "outputs": [
        {
          "output_type": "stream",
          "name": "stdout",
          "text": [
            "Odd\n"
          ]
        }
      ]
    },
    {
      "cell_type": "code",
      "source": [
        "#check if character is vowel or consonent?\n",
        "char=input(\"Enter a character: \")\n",
        "if char=='a' or char=='A':\n",
        "    print(\"its a vowel\");\n",
        "elif char=='e' or char=='E':\n",
        "    print(\"its a vowel\")\n",
        "elif char=='i' or char=='I':\n",
        "    print(\"its a vowel\")\n",
        "elif char=='o' or char=='O':\n",
        "    print(\"its a vowel\")\n",
        "elif char=='u' or char=='U':\n",
        "    print(\"its a vowel\")\n",
        "else:\n",
        "    print(\"Consonent\")\n"
      ],
      "metadata": {
        "colab": {
          "base_uri": "https://localhost:8080/"
        },
        "id": "PORRkkiK5ULK",
        "outputId": "9dab1991-385c-4be6-9393-a88a103393b9"
      },
      "execution_count": 80,
      "outputs": [
        {
          "output_type": "stream",
          "name": "stdout",
          "text": [
            "Enter a character: D\n",
            "Consonent\n"
          ]
        }
      ]
    },
    {
      "cell_type": "code",
      "source": [
        "#Nested Statements\n",
        "#marks<80 -->B\n",
        "#marks>80 and marks<100 -->A\n",
        "#marks>90 -->A+\n",
        "marks=int(input(\"Enter your marks: \"))\n",
        "if marks<80:\n",
        "    print(\"B\")\n",
        "else:\n",
        "    if marks>80 and marks<90:\n",
        "        print(\"A\")\n",
        "    else:\n",
        "        if marks>90:\n",
        "           print(\"A+\")\n",
        "        else:\n",
        "                print(\"Invalid\")"
      ],
      "metadata": {
        "colab": {
          "base_uri": "https://localhost:8080/"
        },
        "id": "Ln1-NBHX6J-Y",
        "outputId": "ab45ed6f-ec2e-4e76-9b1b-939911afaefe"
      },
      "execution_count": 81,
      "outputs": [
        {
          "output_type": "stream",
          "name": "stdout",
          "text": [
            "Enter your marks: 91\n",
            "A+\n"
          ]
        }
      ]
    },
    {
      "cell_type": "code",
      "source": [
        "#Python Loops: for, while\n",
        "#For loop: best when working with collection (list, tuple, set, dict)\n",
        "lst=[1,2,3,4,5,6,7,8,9,10]\n",
        "num=int(input(\"Enter a number: \"))\n",
        "for i in lst:\n",
        "    print(i*num)\n"
      ],
      "metadata": {
        "colab": {
          "base_uri": "https://localhost:8080/"
        },
        "id": "w-fD5MhJ8UEG",
        "outputId": "1e8fb1ef-5391-4a78-c7a8-b56416cfbcdb"
      },
      "execution_count": 70,
      "outputs": [
        {
          "output_type": "stream",
          "name": "stdout",
          "text": [
            "Enter a number: 100\n",
            "100\n",
            "200\n",
            "300\n",
            "400\n",
            "500\n",
            "600\n",
            "700\n",
            "800\n",
            "900\n",
            "1000\n"
          ]
        }
      ]
    },
    {
      "cell_type": "code",
      "source": [
        "#While: works well with conditions\n",
        "num=int(input(\"Enter a number: \"))\n",
        "i=1\n",
        "while i<=10:  #Stoping condition\n",
        "    print(i*num)\n",
        "    i+=1"
      ],
      "metadata": {
        "colab": {
          "base_uri": "https://localhost:8080/"
        },
        "id": "K3WE40AV-yKn",
        "outputId": "91ce29c6-ca9b-4f2d-9ada-8a036bc0aab2"
      },
      "execution_count": 65,
      "outputs": [
        {
          "output_type": "stream",
          "name": "stdout",
          "text": [
            "Enter a number: 12\n",
            "12\n",
            "24\n",
            "36\n",
            "48\n",
            "60\n",
            "72\n",
            "84\n",
            "96\n",
            "108\n",
            "120\n"
          ]
        }
      ]
    },
    {
      "cell_type": "code",
      "source": [
        "char=input(\"Enter a character: \")\n",
        "if char=='a' or char=='A':\n",
        "    print(\"its a vowel\")"
      ],
      "metadata": {
        "colab": {
          "base_uri": "https://localhost:8080/"
        },
        "id": "_NIn1TqrAX0W",
        "outputId": "9a859225-f0d6-4fc8-f286-377dac2b3f84"
      },
      "execution_count": 79,
      "outputs": [
        {
          "output_type": "stream",
          "name": "stdout",
          "text": [
            "Enter a character: a\n",
            "its a vowel\n"
          ]
        }
      ]
    },
    {
      "cell_type": "code",
      "source": [],
      "metadata": {
        "id": "G2lCiVEXCmKz"
      },
      "execution_count": null,
      "outputs": []
    }
  ]
}