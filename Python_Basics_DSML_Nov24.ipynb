{
  "nbformat": 4,
  "nbformat_minor": 0,
  "metadata": {
    "colab": {
      "provenance": [],
      "include_colab_link": true
    },
    "kernelspec": {
      "name": "python3",
      "display_name": "Python 3"
    },
    "language_info": {
      "name": "python"
    }
  },
  "cells": [
    {
      "cell_type": "markdown",
      "metadata": {
        "id": "view-in-github",
        "colab_type": "text"
      },
      "source": [
        "<a href=\"https://colab.research.google.com/github/anzabanita/Books/blob/master/Python_Basics_DSML_Nov24.ipynb\" target=\"_parent\"><img src=\"https://colab.research.google.com/assets/colab-badge.svg\" alt=\"Open In Colab\"/></a>"
      ]
    },
    {
      "cell_type": "code",
      "execution_count": null,
      "metadata": {
        "colab": {
          "base_uri": "https://localhost:8080/"
        },
        "id": "POh_XbHVhx6N",
        "outputId": "859c22ab-9ce0-4a86-bfc0-193c166e51ab"
      },
      "outputs": [
        {
          "output_type": "stream",
          "name": "stdout",
          "text": [
            "Welcome to Python World\n"
          ]
        }
      ],
      "source": [
        "print(\"Welcome to Python World\")"
      ]
    },
    {
      "cell_type": "code",
      "source": [
        "#This is a comment-single line comment\n",
        "\n",
        "\"\"\"This is\n",
        "a\n",
        "multiline\n",
        "comment\n",
        "\"\"\""
      ],
      "metadata": {
        "colab": {
          "base_uri": "https://localhost:8080/",
          "height": 55
        },
        "id": "eLat-X-ik5qZ",
        "outputId": "6f57370f-7304-463c-f582-a9499d0a7df2"
      },
      "execution_count": null,
      "outputs": [
        {
          "output_type": "execute_result",
          "data": {
            "text/plain": [
              "'This is\\na\\nmultiline \\ncomment\\n'"
            ],
            "application/vnd.google.colaboratory.intrinsic+json": {
              "type": "string"
            }
          },
          "metadata": {},
          "execution_count": 4
        }
      ]
    },
    {
      "cell_type": "code",
      "source": [
        "#Python Data Types\n",
        "\n",
        "#Numerical Data Types: int(5,1000,-96),float(56.32,12.99,-10.23)\n",
        "#String: str('This is a strng')\n",
        "#Bool: True/False\n",
        "#Collection Datatypes(sequences): list,tuple,dict,set\n",
        "\n",
        "#Dynamic Typing"
      ],
      "metadata": {
        "id": "5YK7thi-mUtp"
      },
      "execution_count": null,
      "outputs": []
    },
    {
      "cell_type": "code",
      "source": [
        "age=45\n",
        "print(age)\n",
        "print(type(age))"
      ],
      "metadata": {
        "colab": {
          "base_uri": "https://localhost:8080/"
        },
        "id": "M8aNrG5WpTZz",
        "outputId": "c554b344-a824-416a-fd1d-9e40db857a60"
      },
      "execution_count": null,
      "outputs": [
        {
          "output_type": "stream",
          "name": "stdout",
          "text": [
            "45\n",
            "<class 'int'>\n"
          ]
        }
      ]
    },
    {
      "cell_type": "code",
      "source": [
        "roi=12.99\n",
        "print(roi)\n",
        "print(type(roi))"
      ],
      "metadata": {
        "colab": {
          "base_uri": "https://localhost:8080/"
        },
        "id": "ZLzY740kp4tg",
        "outputId": "3218aff7-884f-432e-c7d1-100d3eb8751c"
      },
      "execution_count": null,
      "outputs": [
        {
          "output_type": "stream",
          "name": "stdout",
          "text": [
            "12.99\n",
            "<class 'float'>\n"
          ]
        }
      ]
    },
    {
      "cell_type": "code",
      "source": [
        "#name=\"Radhika Tiwari\"\n",
        "name='Radhika Tiwari'\n",
        "print(name)\n",
        "print(type(name))"
      ],
      "metadata": {
        "colab": {
          "base_uri": "https://localhost:8080/"
        },
        "id": "oNsn0ImyqTsA",
        "outputId": "5ac2b94d-ece2-4873-dea9-9ae06975711e"
      },
      "execution_count": null,
      "outputs": [
        {
          "output_type": "stream",
          "name": "stdout",
          "text": [
            "Radhika Tiwari\n",
            "<class 'str'>\n"
          ]
        }
      ]
    },
    {
      "cell_type": "code",
      "source": [
        "st='The \"Sun\" rises in east'\n",
        "print(st)"
      ],
      "metadata": {
        "colab": {
          "base_uri": "https://localhost:8080/"
        },
        "id": "P3ZQnsiFqv5A",
        "outputId": "229f49ea-b723-4d7f-d268-64349dae5fbb"
      },
      "execution_count": null,
      "outputs": [
        {
          "output_type": "stream",
          "name": "stdout",
          "text": [
            "The \"Sun\" rises in east\n"
          ]
        }
      ]
    },
    {
      "cell_type": "code",
      "source": [
        "#Dynamic Typing\n",
        "#Static types   int age=45\n",
        "\n",
        "var=100\n",
        "print(type(var))"
      ],
      "metadata": {
        "colab": {
          "base_uri": "https://localhost:8080/"
        },
        "id": "Fw7NTaxrq2fK",
        "outputId": "d4c03e2a-5d2a-405b-9d36-9b2cc7936bb9"
      },
      "execution_count": null,
      "outputs": [
        {
          "output_type": "stream",
          "name": "stdout",
          "text": [
            "<class 'int'>\n"
          ]
        }
      ]
    },
    {
      "cell_type": "code",
      "source": [
        "var='Radhika'\n",
        "print(type(var))"
      ],
      "metadata": {
        "colab": {
          "base_uri": "https://localhost:8080/"
        },
        "id": "0hg5FXp2rmO3",
        "outputId": "fc2a372b-49eb-432f-d94b-0846e6eb9861"
      },
      "execution_count": null,
      "outputs": [
        {
          "output_type": "stream",
          "name": "stdout",
          "text": [
            "<class 'str'>\n"
          ]
        }
      ]
    },
    {
      "cell_type": "code",
      "source": [
        "var=True\n",
        "print(type(var))"
      ],
      "metadata": {
        "colab": {
          "base_uri": "https://localhost:8080/"
        },
        "id": "I_QRp-yyruGI",
        "outputId": "1a79197f-d512-41fc-c9e0-1f11a9de57b9"
      },
      "execution_count": null,
      "outputs": [
        {
          "output_type": "stream",
          "name": "stdout",
          "text": [
            "<class 'bool'>\n"
          ]
        }
      ]
    },
    {
      "cell_type": "code",
      "source": [
        "var=34.56\n",
        "print(type(var))"
      ],
      "metadata": {
        "colab": {
          "base_uri": "https://localhost:8080/"
        },
        "id": "jzLkF1C-r9VI",
        "outputId": "a6b9d126-3caa-49ae-9b88-4b8841f8b4b5"
      },
      "execution_count": null,
      "outputs": [
        {
          "output_type": "stream",
          "name": "stdout",
          "text": [
            "<class 'float'>\n"
          ]
        }
      ]
    },
    {
      "cell_type": "code",
      "source": [
        "#Rules of Variables in Python\n",
        "myvar=45\n",
        "#Invalid\n",
        "10myvar=45\n",
        "my-var=45 #_ underscore  NO !@#$%^&*()-+\n",
        "my var=4"
      ],
      "metadata": {
        "colab": {
          "base_uri": "https://localhost:8080/",
          "height": 126
        },
        "id": "NakcSwnFr_K_",
        "outputId": "fe6ea797-7b87-45d5-cf52-e414dc564225"
      },
      "execution_count": null,
      "outputs": [
        {
          "output_type": "error",
          "ename": "SyntaxError",
          "evalue": "invalid decimal literal (<ipython-input-17-621b2e2ea571>, line 4)",
          "traceback": [
            "\u001b[0;36m  File \u001b[0;32m\"<ipython-input-17-621b2e2ea571>\"\u001b[0;36m, line \u001b[0;32m4\u001b[0m\n\u001b[0;31m    10myvar=45\u001b[0m\n\u001b[0m     ^\u001b[0m\n\u001b[0;31mSyntaxError\u001b[0m\u001b[0;31m:\u001b[0m invalid decimal literal\n"
          ]
        }
      ]
    },
    {
      "cell_type": "code",
      "source": [
        "#Operators in Python   a+b\n",
        "\n",
        "#Airthmetical Operators: +,-,/,*,//,%(modulo),**(power)\n",
        "print(45+78)\n",
        "print(78*6) #Multiplication\n",
        "\n",
        "print(45/8)  #Division\n",
        "print(45//8)  #Floor Division only int part\n",
        "print(10%3) #Remainder of division\n",
        "\n",
        "print(10**3)   #x^y  power"
      ],
      "metadata": {
        "colab": {
          "base_uri": "https://localhost:8080/"
        },
        "id": "Aiewre1ds04d",
        "outputId": "210f5342-59bc-4114-c322-316e8b67082f"
      },
      "execution_count": null,
      "outputs": [
        {
          "output_type": "stream",
          "name": "stdout",
          "text": [
            "123\n",
            "468\n",
            "5.625\n",
            "5\n",
            "1\n",
            "1000\n"
          ]
        }
      ]
    },
    {
      "cell_type": "code",
      "source": [
        "#Round off\n",
        "print(round(45.23698,2))"
      ],
      "metadata": {
        "colab": {
          "base_uri": "https://localhost:8080/"
        },
        "id": "ZKQU5vDPtl2F",
        "outputId": "7537db50-3632-428f-ddab-5548a54da39b"
      },
      "execution_count": null,
      "outputs": [
        {
          "output_type": "stream",
          "name": "stdout",
          "text": [
            "45.24\n"
          ]
        }
      ]
    },
    {
      "cell_type": "code",
      "source": [
        "#Assignment Operators  =,+=,-=\n",
        "salary=45000\n",
        "salary+=10000  #a+=b  a=a+b\n",
        "print(salary)\n",
        "salary-=5000  #a-=b  a=a-b\n",
        "print(salary)\n",
        "\n",
        "#++,--  Not supported"
      ],
      "metadata": {
        "colab": {
          "base_uri": "https://localhost:8080/"
        },
        "id": "8QqbcfUlwXxH",
        "outputId": "2c38e701-ad2f-4d4c-c1d7-b181360725b4"
      },
      "execution_count": null,
      "outputs": [
        {
          "output_type": "stream",
          "name": "stdout",
          "text": [
            "55000\n",
            "50000\n"
          ]
        }
      ]
    },
    {
      "cell_type": "code",
      "source": [
        "#Relational/Comparision Operator >,<,<=,>=,==,!=(not equal)\n",
        "age=45\n",
        "print(age>18)   #True\n",
        "print(age<18)\n",
        "print(age>=18)\n",
        "print(age<=18)\n",
        "print(age==18)  #age=18 assignment\n",
        "print(age!=18)  #not equal"
      ],
      "metadata": {
        "colab": {
          "base_uri": "https://localhost:8080/"
        },
        "id": "yZECT2q02KEF",
        "outputId": "5ac461b8-34fa-4cc0-e5be-d25576f61e6e"
      },
      "execution_count": null,
      "outputs": [
        {
          "output_type": "stream",
          "name": "stdout",
          "text": [
            "True\n",
            "False\n",
            "True\n",
            "False\n",
            "False\n",
            "True\n"
          ]
        }
      ]
    },
    {
      "cell_type": "code",
      "source": [
        "#Logical operators: and, or, not\n",
        "age=70\n",
        "print(age>18 and age<60)\n",
        "print(age>18 or age<60)\n",
        "print(not age>18)"
      ],
      "metadata": {
        "colab": {
          "base_uri": "https://localhost:8080/"
        },
        "id": "vsCGYjzW3Cj9",
        "outputId": "830b705f-5116-4728-a551-bb1fbeb086f4"
      },
      "execution_count": null,
      "outputs": [
        {
          "output_type": "stream",
          "name": "stdout",
          "text": [
            "False\n",
            "True\n",
            "False\n"
          ]
        }
      ]
    },
    {
      "cell_type": "code",
      "source": [
        "#Flow Control Statements: Conditional Statements,Loops\n",
        "#Conditional Statements: if, else , elif , nested statement\n",
        "\n",
        "#Check num is even or odd ?\n",
        "num=17\n",
        "if num%2==0:\n",
        "    print(\"Even\")\n",
        "else:\n",
        "    print(\"Odd\")"
      ],
      "metadata": {
        "colab": {
          "base_uri": "https://localhost:8080/",
          "height": 126
        },
        "id": "vFbU-HeO4JOv",
        "outputId": "cbe5d937-2bb2-4afe-b23e-069e846a03a7"
      },
      "execution_count": null,
      "outputs": [
        {
          "output_type": "error",
          "ename": "SyntaxError",
          "evalue": "expected ':' (<ipython-input-34-40f2161b79f9>, line 6)",
          "traceback": [
            "\u001b[0;36m  File \u001b[0;32m\"<ipython-input-34-40f2161b79f9>\"\u001b[0;36m, line \u001b[0;32m6\u001b[0m\n\u001b[0;31m    if num%2==0\u001b[0m\n\u001b[0m               ^\u001b[0m\n\u001b[0;31mSyntaxError\u001b[0m\u001b[0;31m:\u001b[0m expected ':'\n"
          ]
        }
      ]
    },
    {
      "cell_type": "code",
      "source": [
        "#Check if character is vowel or consonent ?\n",
        "char=input(\"Enter a character: \")\n",
        "if char=='a' or char=='A':\n",
        "  print(\"its a vowel\")\n",
        "elif char=='e' or char=='E':\n",
        "  print(\"its a vowel\")\n",
        "elif char=='i' or char=='I':\n",
        "  print(\"its a vowel\")\n",
        "elif char=='o' or char=='O':\n",
        "  print(\"its a vowel\")\n",
        "elif char=='u' or char=='U':\n",
        "  print(\"its a vowel\")\n",
        "else:\n",
        "  print(\"its a consonent\")"
      ],
      "metadata": {
        "colab": {
          "base_uri": "https://localhost:8080/",
          "height": 394
        },
        "id": "qt0ipQsL5HUi",
        "outputId": "c30f635e-61a3-4e4c-b399-fb4ff67069aa"
      },
      "execution_count": null,
      "outputs": [
        {
          "output_type": "error",
          "ename": "KeyboardInterrupt",
          "evalue": "Interrupted by user",
          "traceback": [
            "\u001b[0;31m---------------------------------------------------------------------------\u001b[0m",
            "\u001b[0;31mKeyboardInterrupt\u001b[0m                         Traceback (most recent call last)",
            "\u001b[0;32m<ipython-input-38-c5cc871001ad>\u001b[0m in \u001b[0;36m<cell line: 2>\u001b[0;34m()\u001b[0m\n\u001b[1;32m      1\u001b[0m \u001b[0;31m#Check if character is vowel or consonent ?\u001b[0m\u001b[0;34m\u001b[0m\u001b[0;34m\u001b[0m\u001b[0m\n\u001b[0;32m----> 2\u001b[0;31m \u001b[0mchar\u001b[0m\u001b[0;34m=\u001b[0m\u001b[0minput\u001b[0m\u001b[0;34m(\u001b[0m\u001b[0;34m\"Enter a character: \"\u001b[0m\u001b[0;34m)\u001b[0m\u001b[0;34m\u001b[0m\u001b[0;34m\u001b[0m\u001b[0m\n\u001b[0m\u001b[1;32m      3\u001b[0m \u001b[0;32mif\u001b[0m \u001b[0mchar\u001b[0m\u001b[0;34m==\u001b[0m\u001b[0;34m'a'\u001b[0m \u001b[0;32mor\u001b[0m \u001b[0mchar\u001b[0m\u001b[0;34m==\u001b[0m\u001b[0;34m'A'\u001b[0m\u001b[0;34m:\u001b[0m\u001b[0;34m\u001b[0m\u001b[0;34m\u001b[0m\u001b[0m\n\u001b[1;32m      4\u001b[0m   \u001b[0mprint\u001b[0m\u001b[0;34m(\u001b[0m\u001b[0;34m\"its a vowel\"\u001b[0m\u001b[0;34m)\u001b[0m\u001b[0;34m\u001b[0m\u001b[0;34m\u001b[0m\u001b[0m\n\u001b[1;32m      5\u001b[0m \u001b[0;32melif\u001b[0m \u001b[0mchar\u001b[0m\u001b[0;34m==\u001b[0m\u001b[0;34m'e'\u001b[0m \u001b[0;32mor\u001b[0m \u001b[0mchar\u001b[0m\u001b[0;34m==\u001b[0m\u001b[0;34m'E'\u001b[0m\u001b[0;34m:\u001b[0m\u001b[0;34m\u001b[0m\u001b[0;34m\u001b[0m\u001b[0m\n",
            "\u001b[0;32m/usr/local/lib/python3.10/dist-packages/ipykernel/kernelbase.py\u001b[0m in \u001b[0;36mraw_input\u001b[0;34m(self, prompt)\u001b[0m\n\u001b[1;32m    849\u001b[0m                 \u001b[0;34m\"raw_input was called, but this frontend does not support input requests.\"\u001b[0m\u001b[0;34m\u001b[0m\u001b[0;34m\u001b[0m\u001b[0m\n\u001b[1;32m    850\u001b[0m             )\n\u001b[0;32m--> 851\u001b[0;31m         return self._input_request(str(prompt),\n\u001b[0m\u001b[1;32m    852\u001b[0m             \u001b[0mself\u001b[0m\u001b[0;34m.\u001b[0m\u001b[0m_parent_ident\u001b[0m\u001b[0;34m,\u001b[0m\u001b[0;34m\u001b[0m\u001b[0;34m\u001b[0m\u001b[0m\n\u001b[1;32m    853\u001b[0m             \u001b[0mself\u001b[0m\u001b[0;34m.\u001b[0m\u001b[0m_parent_header\u001b[0m\u001b[0;34m,\u001b[0m\u001b[0;34m\u001b[0m\u001b[0;34m\u001b[0m\u001b[0m\n",
            "\u001b[0;32m/usr/local/lib/python3.10/dist-packages/ipykernel/kernelbase.py\u001b[0m in \u001b[0;36m_input_request\u001b[0;34m(self, prompt, ident, parent, password)\u001b[0m\n\u001b[1;32m    893\u001b[0m             \u001b[0;32mexcept\u001b[0m \u001b[0mKeyboardInterrupt\u001b[0m\u001b[0;34m:\u001b[0m\u001b[0;34m\u001b[0m\u001b[0;34m\u001b[0m\u001b[0m\n\u001b[1;32m    894\u001b[0m                 \u001b[0;31m# re-raise KeyboardInterrupt, to truncate traceback\u001b[0m\u001b[0;34m\u001b[0m\u001b[0;34m\u001b[0m\u001b[0m\n\u001b[0;32m--> 895\u001b[0;31m                 \u001b[0;32mraise\u001b[0m \u001b[0mKeyboardInterrupt\u001b[0m\u001b[0;34m(\u001b[0m\u001b[0;34m\"Interrupted by user\"\u001b[0m\u001b[0;34m)\u001b[0m \u001b[0;32mfrom\u001b[0m \u001b[0;32mNone\u001b[0m\u001b[0;34m\u001b[0m\u001b[0;34m\u001b[0m\u001b[0m\n\u001b[0m\u001b[1;32m    896\u001b[0m             \u001b[0;32mexcept\u001b[0m \u001b[0mException\u001b[0m \u001b[0;32mas\u001b[0m \u001b[0me\u001b[0m\u001b[0;34m:\u001b[0m\u001b[0;34m\u001b[0m\u001b[0;34m\u001b[0m\u001b[0m\n\u001b[1;32m    897\u001b[0m                 \u001b[0mself\u001b[0m\u001b[0;34m.\u001b[0m\u001b[0mlog\u001b[0m\u001b[0;34m.\u001b[0m\u001b[0mwarning\u001b[0m\u001b[0;34m(\u001b[0m\u001b[0;34m\"Invalid Message:\"\u001b[0m\u001b[0;34m,\u001b[0m \u001b[0mexc_info\u001b[0m\u001b[0;34m=\u001b[0m\u001b[0;32mTrue\u001b[0m\u001b[0;34m)\u001b[0m\u001b[0;34m\u001b[0m\u001b[0;34m\u001b[0m\u001b[0m\n",
            "\u001b[0;31mKeyboardInterrupt\u001b[0m: Interrupted by user"
          ]
        }
      ]
    },
    {
      "cell_type": "code",
      "source": [
        "#Check if character is vowel or consonent ?\n",
        "char=input(\"Enter a character: \")\n",
        "if char in 'aeiouAEIOU':\n",
        "  print(\"its a vowel\")\n",
        "else:\n",
        "  print(\"its a consonent\")"
      ],
      "metadata": {
        "colab": {
          "base_uri": "https://localhost:8080/"
        },
        "id": "cQ2TLwZK6oiA",
        "outputId": "1dede5cf-cff7-4627-a373-bd43b61c3e04"
      },
      "execution_count": null,
      "outputs": [
        {
          "output_type": "stream",
          "name": "stdout",
          "text": [
            "Enter a character: o\n",
            "its a vowel\n"
          ]
        }
      ]
    },
    {
      "cell_type": "code",
      "source": [
        "#Nested statements\n",
        "#marks<80 --->B\n",
        "#marks>80 and marks<100--->A\n",
        "#marks>90--->A+\n",
        "\n",
        "marks=int(input(\"Enter your marks: \"))\n",
        "if marks<80:\n",
        "  print(\"B\")\n",
        "elif marks>80 and marks<100:\n",
        "   if marks>90:\n",
        "      print(\"A+\")\n",
        "   else:\n",
        "      print(\"A\")\n",
        "elif marks>100:\n",
        "  print(\"Invalid marks\")\n"
      ],
      "metadata": {
        "colab": {
          "base_uri": "https://localhost:8080/"
        },
        "id": "9ms9m0kn7LOW",
        "outputId": "54b151d6-8a18-45ae-be1a-fd8aa42855cd"
      },
      "execution_count": null,
      "outputs": [
        {
          "output_type": "stream",
          "name": "stdout",
          "text": [
            "Enter your marks: 78\n",
            "B\n"
          ]
        }
      ]
    },
    {
      "cell_type": "code",
      "source": [
        "marks=int(input(\"Enter your marks: \")) #Type Casting/Conversion\n",
        "print(marks)\n",
        "print(type(marks))"
      ],
      "metadata": {
        "colab": {
          "base_uri": "https://localhost:8080/"
        },
        "id": "BQjAGVEi8TBt",
        "outputId": "b0efaee8-1871-4a1b-d919-6874f42e1ef7"
      },
      "execution_count": null,
      "outputs": [
        {
          "output_type": "stream",
          "name": "stdout",
          "text": [
            "Enter your marks: 45\n",
            "45\n",
            "<class 'int'>\n"
          ]
        }
      ]
    },
    {
      "cell_type": "code",
      "source": [
        "#Python Loops: for,while\n",
        "#For Loop: works well with collection(list,tuple,set,dict)\n",
        "lst=[1,2,3,4,5,6,7,8,9,10]\n",
        "num=int(input(\"Enter a number: \"))\n",
        "for i in lst:\n",
        "  print(i*num)\n"
      ],
      "metadata": {
        "colab": {
          "base_uri": "https://localhost:8080/"
        },
        "id": "iIzUJZI-9RvI",
        "outputId": "240781fd-4f2a-4c93-9a69-b218dc5ccf3d"
      },
      "execution_count": null,
      "outputs": [
        {
          "output_type": "stream",
          "name": "stdout",
          "text": [
            "Enter a number: 12\n",
            "12\n",
            "24\n",
            "36\n",
            "48\n",
            "60\n",
            "72\n",
            "84\n",
            "96\n",
            "108\n",
            "120\n"
          ]
        }
      ]
    },
    {
      "cell_type": "code",
      "source": [
        "#While: works with conditions\n",
        "num=int(input(\"Enter a number: \"))\n",
        "i=1\n",
        "while i<=10:  #Stopping condition\n",
        "  print(i*num)\n",
        "  i+=1"
      ],
      "metadata": {
        "colab": {
          "base_uri": "https://localhost:8080/"
        },
        "id": "IVwozbp_-r_I",
        "outputId": "ff35e835-4c84-4d66-b9a2-fe7958040df3"
      },
      "execution_count": null,
      "outputs": [
        {
          "output_type": "stream",
          "name": "stdout",
          "text": [
            "Enter a number: 14\n",
            "14\n",
            "28\n",
            "42\n",
            "56\n",
            "70\n",
            "84\n",
            "98\n",
            "112\n",
            "126\n",
            "140\n"
          ]
        }
      ]
    },
    {
      "cell_type": "code",
      "source": [
        "print(list(range(10,20)))"
      ],
      "metadata": {
        "colab": {
          "base_uri": "https://localhost:8080/"
        },
        "id": "zZO1SMDjCLKp",
        "outputId": "214a6532-db4a-48ee-ab8a-4eb318a99596"
      },
      "execution_count": null,
      "outputs": [
        {
          "output_type": "stream",
          "name": "stdout",
          "text": [
            "[10, 11, 12, 13, 14, 15, 16, 17, 18, 19]\n"
          ]
        }
      ]
    },
    {
      "cell_type": "markdown",
      "source": [
        "Sequences in Python (Collection datatypes)\n",
        "\n",
        "#Strings, List, Tuple, Set, Dict"
      ],
      "metadata": {
        "id": "N3uxG7ENlQrr"
      }
    },
    {
      "cell_type": "code",
      "source": [
        "#Ordered/Unordered(index)\n",
        "#Mutable/Immutable(can we change item)\n",
        "#Allow Duplicates or not\n",
        "\n",
        "#1.Strings:Ordered,Immutable,Allow Duplicates\n",
        "#2.List[]: ordered,Mutable,Allow Duplicates\n",
        "#3.Tuple(): ordered,Immutable, Allow Duplciates\n",
        "#4.Set{}: unordered, Mutable, DO NOT allow duplcaites\n",
        "#5.Dict{key:value}: unordered, Keys are immutable, Values are mutable, keys can not be duplicate but value can be"
      ],
      "metadata": {
        "id": "jmaStdn4CQAw"
      },
      "execution_count": null,
      "outputs": []
    },
    {
      "cell_type": "code",
      "source": [
        "#Strings\n",
        "name=\"Radhika Tiwari\"\n",
        "print(name)\n",
        "print(type(name))"
      ],
      "metadata": {
        "colab": {
          "base_uri": "https://localhost:8080/"
        },
        "id": "eyEu3rF6n-Uu",
        "outputId": "de2a651e-02d5-402f-bbaa-4cfa6819b02f"
      },
      "execution_count": null,
      "outputs": [
        {
          "output_type": "stream",
          "name": "stdout",
          "text": [
            "Radhika Tiwari\n",
            "<class 'str'>\n"
          ]
        }
      ]
    },
    {
      "cell_type": "code",
      "source": [
        "print(name[0])\n",
        "name[0]='X'  #String are immutable"
      ],
      "metadata": {
        "colab": {
          "base_uri": "https://localhost:8080/",
          "height": 196
        },
        "id": "ahOVQUeXsOFw",
        "outputId": "cb126310-27ef-400d-c774-91590fa69e12"
      },
      "execution_count": null,
      "outputs": [
        {
          "output_type": "stream",
          "name": "stdout",
          "text": [
            "R\n"
          ]
        },
        {
          "output_type": "error",
          "ename": "TypeError",
          "evalue": "'str' object does not support item assignment",
          "traceback": [
            "\u001b[0;31m---------------------------------------------------------------------------\u001b[0m",
            "\u001b[0;31mTypeError\u001b[0m                                 Traceback (most recent call last)",
            "\u001b[0;32m<ipython-input-17-837a0e24134d>\u001b[0m in \u001b[0;36m<cell line: 2>\u001b[0;34m()\u001b[0m\n\u001b[1;32m      1\u001b[0m \u001b[0mprint\u001b[0m\u001b[0;34m(\u001b[0m\u001b[0mname\u001b[0m\u001b[0;34m[\u001b[0m\u001b[0;36m0\u001b[0m\u001b[0;34m]\u001b[0m\u001b[0;34m)\u001b[0m\u001b[0;34m\u001b[0m\u001b[0;34m\u001b[0m\u001b[0m\n\u001b[0;32m----> 2\u001b[0;31m \u001b[0mname\u001b[0m\u001b[0;34m[\u001b[0m\u001b[0;36m0\u001b[0m\u001b[0;34m]\u001b[0m\u001b[0;34m=\u001b[0m\u001b[0;34m'X'\u001b[0m\u001b[0;34m\u001b[0m\u001b[0;34m\u001b[0m\u001b[0m\n\u001b[0m",
            "\u001b[0;31mTypeError\u001b[0m: 'str' object does not support item assignment"
          ]
        }
      ]
    },
    {
      "cell_type": "code",
      "source": [
        "print(name[-1])\n",
        "print(len(name))\n",
        "\n",
        "#Slicing   str[start:stop:step]\n",
        "print(name[0:5])\n",
        "print(name[8:])  #Default stop is end of the collection\n",
        "print(name[:7])  #Deafult start is 0\n",
        "print(name[::2])\n",
        "\n",
        "str='abcdefghijklmnop'\n",
        "print(str[0::2])"
      ],
      "metadata": {
        "colab": {
          "base_uri": "https://localhost:8080/",
          "height": 318
        },
        "id": "nwhIXyycoNdg",
        "outputId": "a1caf60c-8baa-4169-a243-e956b0f54ae8"
      },
      "execution_count": null,
      "outputs": [
        {
          "output_type": "stream",
          "name": "stdout",
          "text": [
            "i\n",
            "14\n",
            "Radhi\n",
            "Tiwari\n",
            "Radhika\n",
            "RdiaTwr\n",
            "acegikmo\n"
          ]
        },
        {
          "output_type": "error",
          "ename": "TypeError",
          "evalue": "string indices must be integers",
          "traceback": [
            "\u001b[0;31m---------------------------------------------------------------------------\u001b[0m",
            "\u001b[0;31mTypeError\u001b[0m                                 Traceback (most recent call last)",
            "\u001b[0;32m<ipython-input-19-eaa2877cb34a>\u001b[0m in \u001b[0;36m<cell line: 12>\u001b[0;34m()\u001b[0m\n\u001b[1;32m     10\u001b[0m \u001b[0mstr\u001b[0m\u001b[0;34m=\u001b[0m\u001b[0;34m'abcdefghijklmnop'\u001b[0m\u001b[0;34m\u001b[0m\u001b[0;34m\u001b[0m\u001b[0m\n\u001b[1;32m     11\u001b[0m \u001b[0mprint\u001b[0m\u001b[0;34m(\u001b[0m\u001b[0mstr\u001b[0m\u001b[0;34m[\u001b[0m\u001b[0;36m0\u001b[0m\u001b[0;34m:\u001b[0m\u001b[0;34m:\u001b[0m\u001b[0;36m2\u001b[0m\u001b[0;34m]\u001b[0m\u001b[0;34m)\u001b[0m\u001b[0;34m\u001b[0m\u001b[0;34m\u001b[0m\u001b[0m\n\u001b[0;32m---> 12\u001b[0;31m \u001b[0mprint\u001b[0m\u001b[0;34m(\u001b[0m\u001b[0mstr\u001b[0m\u001b[0;34m[\u001b[0m\u001b[0;36m0\u001b[0m\u001b[0;34m,\u001b[0m\u001b[0;36m2\u001b[0m\u001b[0;34m,\u001b[0m\u001b[0;36m5\u001b[0m\u001b[0;34m]\u001b[0m\u001b[0;34m)\u001b[0m\u001b[0;34m\u001b[0m\u001b[0;34m\u001b[0m\u001b[0m\n\u001b[0m",
            "\u001b[0;31mTypeError\u001b[0m: string indices must be integers"
          ]
        }
      ]
    },
    {
      "cell_type": "code",
      "source": [
        "#String interpolations(enbadding of values)\n",
        "name=\"Amit\"\n",
        "age=56\n",
        "print(\"My name is \"+name+\" and I am \"+str(age)+\" years old\")\n",
        "\n",
        "#f-string\n",
        "print(f\"My name is {name} and I am {age} years old\")\n",
        "\n",
        "#Format function\n",
        "print(\"My name is {} and I am {} years old\".format(name,age))\n",
        "print(\"My name is {} and I am {} years old\".format(age,name))\n",
        "print(\"My name is {1} and I am {0} years old\".format(age,name))"
      ],
      "metadata": {
        "colab": {
          "base_uri": "https://localhost:8080/"
        },
        "id": "bGcwivyFoz_K",
        "outputId": "701103ee-8c56-4eab-ff61-810e6200727b"
      },
      "execution_count": null,
      "outputs": [
        {
          "output_type": "stream",
          "name": "stdout",
          "text": [
            "My name is Amit and I am 56 years old\n",
            "My name is Amit and I am 56 years old\n",
            "My name is Amit and I am 56 years old\n",
            "My name is 56 and I am Amit years old\n",
            "My name is Amit and I am 56 years old\n"
          ]
        }
      ]
    },
    {
      "cell_type": "code",
      "source": [
        "#Python Lists\n",
        "lst=[1,2,3,4,5,6,7,8,9,10]\n",
        "print(lst)\n",
        "\n",
        "emp=[1001,'Amit Sharma',25000,4.6,['proj1','proj2']]\n",
        "print(type(emp))\n",
        "print(emp[3])  #indexing\n",
        "print(emp[4][0]) #Forwrded indexing\n",
        "\n"
      ],
      "metadata": {
        "colab": {
          "base_uri": "https://localhost:8080/"
        },
        "id": "9mpvompRq3Um",
        "outputId": "3014b738-da8e-49cd-d557-a8c29b62b153"
      },
      "execution_count": null,
      "outputs": [
        {
          "output_type": "stream",
          "name": "stdout",
          "text": [
            "[1, 2, 3, 4, 5, 6, 7, 8, 9, 10]\n",
            "<class 'list'>\n",
            "4.6\n",
            "proj1\n"
          ]
        }
      ]
    },
    {
      "cell_type": "code",
      "source": [
        "#Mutable\n",
        "emp[2]=30000\n",
        "print(emp)\n",
        "\n",
        "lst=[45,63,98,65,32,32,32,32]\n",
        "print(lst)"
      ],
      "metadata": {
        "colab": {
          "base_uri": "https://localhost:8080/"
        },
        "id": "C6lDkExPuwTs",
        "outputId": "ba3f7134-ef86-4f35-e662-cda891e90600"
      },
      "execution_count": null,
      "outputs": [
        {
          "output_type": "stream",
          "name": "stdout",
          "text": [
            "[1001, 'Amit Sharma', 30000, 4.6, ['proj1', 'proj2']]\n",
            "[45, 63, 98, 65, 32, 32, 32, 32]\n"
          ]
        }
      ]
    },
    {
      "cell_type": "code",
      "source": [
        "#Insert and delete items from list\n",
        "#Insert: append(),insert(),extend()\n",
        "print(emp)\n",
        "\n",
        "emp.append('Mumbai') #one value at the end\n",
        "print(emp)\n",
        "\n",
        "emp.extend(['Manager','Developer']) #Multiple values at the end\n",
        "print(emp)\n",
        "\n",
        "emp.insert(2,'New Value') #insert at specific index\n",
        "print(emp)"
      ],
      "metadata": {
        "colab": {
          "base_uri": "https://localhost:8080/"
        },
        "id": "PmKz1HZHv3ED",
        "outputId": "f2b6740c-8f45-4df2-cd6e-6a485cf8c10f"
      },
      "execution_count": null,
      "outputs": [
        {
          "output_type": "stream",
          "name": "stdout",
          "text": [
            "[1001, 'Amit Sharma', 30000, 4.6, ['proj1', 'proj2'], 'Mumbai', 'Mumbai', 'Manager', 'Developer']\n",
            "[1001, 'Amit Sharma', 30000, 4.6, ['proj1', 'proj2'], 'Mumbai', 'Mumbai', 'Manager', 'Developer', 'Mumbai']\n",
            "[1001, 'Amit Sharma', 30000, 4.6, ['proj1', 'proj2'], 'Mumbai', 'Mumbai', 'Manager', 'Developer', 'Mumbai', 'Manager', 'Developer']\n",
            "[1001, 'Amit Sharma', 'New Value', 30000, 4.6, ['proj1', 'proj2'], 'Mumbai', 'Mumbai', 'Manager', 'Developer', 'Mumbai', 'Manager', 'Developer']\n"
          ]
        }
      ]
    },
    {
      "cell_type": "code",
      "source": [
        "#Delete from the list: pop(),remove()\n",
        "print(emp)\n",
        "emp.pop() #delete last element"
      ],
      "metadata": {
        "colab": {
          "base_uri": "https://localhost:8080/",
          "height": 72
        },
        "id": "oPj111nVxEde",
        "outputId": "6d7f3447-f834-4396-8a15-267a7431f96b"
      },
      "execution_count": null,
      "outputs": [
        {
          "output_type": "stream",
          "name": "stdout",
          "text": [
            "[1001, 'Amit Sharma', 'New Value', 30000, 4.6, ['proj1', 'proj2'], 'Mumbai', 'Mumbai', 'Manager', 'Developer', 'Mumbai', 'Manager', 'Developer']\n"
          ]
        },
        {
          "output_type": "execute_result",
          "data": {
            "text/plain": [
              "'Developer'"
            ],
            "application/vnd.google.colaboratory.intrinsic+json": {
              "type": "string"
            }
          },
          "metadata": {},
          "execution_count": 33
        }
      ]
    },
    {
      "cell_type": "code",
      "source": [
        "print(emp)"
      ],
      "metadata": {
        "colab": {
          "base_uri": "https://localhost:8080/"
        },
        "id": "mWdi_WNwyWPv",
        "outputId": "64fb2487-92ac-476f-fd2e-76282d0fc53c"
      },
      "execution_count": null,
      "outputs": [
        {
          "output_type": "stream",
          "name": "stdout",
          "text": [
            "[1001, 'Amit Sharma', 'New Value', 30000, 4.6, ['proj1', 'proj2'], 'Mumbai', 'Mumbai', 'Manager', 'Developer', 'Mumbai', 'Manager']\n"
          ]
        }
      ]
    },
    {
      "cell_type": "code",
      "source": [
        "emp.pop(2)\n",
        "print(emp)"
      ],
      "metadata": {
        "colab": {
          "base_uri": "https://localhost:8080/"
        },
        "id": "BJSZebSEymiM",
        "outputId": "527577ac-cec4-4a84-aa44-3c26460c4bc2"
      },
      "execution_count": null,
      "outputs": [
        {
          "output_type": "stream",
          "name": "stdout",
          "text": [
            "[1001, 'Amit Sharma', 30000, 4.6, ['proj1', 'proj2'], 'Mumbai', 'Mumbai', 'Manager', 'Developer', 'Mumbai', 'Manager']\n"
          ]
        }
      ]
    },
    {
      "cell_type": "code",
      "source": [
        "emp.remove('Mumbai') #delete the first occurance\n",
        "print(emp)"
      ],
      "metadata": {
        "colab": {
          "base_uri": "https://localhost:8080/"
        },
        "id": "6J43SepZy7Do",
        "outputId": "af36e16f-98e2-45be-f01b-1ae56d553d41"
      },
      "execution_count": null,
      "outputs": [
        {
          "output_type": "stream",
          "name": "stdout",
          "text": [
            "[1001, 'Amit Sharma', 30000, 4.6, ['proj1', 'proj2'], 'Mumbai', 'Manager', 'Developer', 'Mumbai', 'Manager']\n"
          ]
        }
      ]
    },
    {
      "cell_type": "code",
      "source": [
        "for item in emp:\n",
        "  if item=='Mumbai':\n",
        "    emp.remove(item)\n",
        "\n",
        "print(emp)"
      ],
      "metadata": {
        "colab": {
          "base_uri": "https://localhost:8080/"
        },
        "id": "Gvpsb6EVzPOy",
        "outputId": "3c401318-5859-4748-a97a-59fc82352280"
      },
      "execution_count": null,
      "outputs": [
        {
          "output_type": "stream",
          "name": "stdout",
          "text": [
            "[1001, 'Amit Sharma', 30000, 4.6, ['proj1', 'proj2'], 'Manager', 'Developer', 'Manager']\n"
          ]
        }
      ]
    },
    {
      "cell_type": "code",
      "source": [
        "print(len(emp))"
      ],
      "metadata": {
        "colab": {
          "base_uri": "https://localhost:8080/"
        },
        "id": "3aS9EL_AzuMH",
        "outputId": "5bb1d4de-7df0-48b4-ed66-e977b946ab51"
      },
      "execution_count": null,
      "outputs": [
        {
          "output_type": "stream",
          "name": "stdout",
          "text": [
            "8\n"
          ]
        }
      ]
    },
    {
      "cell_type": "code",
      "source": [
        "for item in emp:\n",
        "  print(item)"
      ],
      "metadata": {
        "colab": {
          "base_uri": "https://localhost:8080/"
        },
        "id": "KaRcn8xv0rWI",
        "outputId": "a439c74b-e8e5-4164-cd1f-eb1155798688"
      },
      "execution_count": null,
      "outputs": [
        {
          "output_type": "stream",
          "name": "stdout",
          "text": [
            "1001\n",
            "Amit Sharma\n",
            "30000\n",
            "4.6\n",
            "['proj1', 'proj2']\n",
            "Manager\n",
            "Developer\n",
            "Manager\n"
          ]
        }
      ]
    },
    {
      "cell_type": "code",
      "source": [
        "#Python Tuple\n",
        "tup=(45,63,98,56,23)\n",
        "print(tup)\n",
        "print(type(tup))"
      ],
      "metadata": {
        "colab": {
          "base_uri": "https://localhost:8080/"
        },
        "id": "fyZqrEn71RXI",
        "outputId": "f939cea6-e0e6-4829-f194-3c3447d9e58f"
      },
      "execution_count": null,
      "outputs": [
        {
          "output_type": "stream",
          "name": "stdout",
          "text": [
            "(45, 63, 98, 56, 23)\n",
            "<class 'tuple'>\n"
          ]
        }
      ]
    },
    {
      "cell_type": "code",
      "source": [
        "print(tup[0])  #index\n",
        "\n",
        "tup[0]=100  #Immutable"
      ],
      "metadata": {
        "colab": {
          "base_uri": "https://localhost:8080/",
          "height": 213
        },
        "id": "IOrr_AE929MB",
        "outputId": "5c2aa679-632b-41cf-8ac0-ddd2ecc0059e"
      },
      "execution_count": null,
      "outputs": [
        {
          "output_type": "stream",
          "name": "stdout",
          "text": [
            "45\n"
          ]
        },
        {
          "output_type": "error",
          "ename": "TypeError",
          "evalue": "'tuple' object does not support item assignment",
          "traceback": [
            "\u001b[0;31m---------------------------------------------------------------------------\u001b[0m",
            "\u001b[0;31mTypeError\u001b[0m                                 Traceback (most recent call last)",
            "\u001b[0;32m<ipython-input-43-3e858f2e34b8>\u001b[0m in \u001b[0;36m<cell line: 3>\u001b[0;34m()\u001b[0m\n\u001b[1;32m      1\u001b[0m \u001b[0mprint\u001b[0m\u001b[0;34m(\u001b[0m\u001b[0mtup\u001b[0m\u001b[0;34m[\u001b[0m\u001b[0;36m0\u001b[0m\u001b[0;34m]\u001b[0m\u001b[0;34m)\u001b[0m  \u001b[0;31m#index\u001b[0m\u001b[0;34m\u001b[0m\u001b[0;34m\u001b[0m\u001b[0m\n\u001b[1;32m      2\u001b[0m \u001b[0;34m\u001b[0m\u001b[0m\n\u001b[0;32m----> 3\u001b[0;31m \u001b[0mtup\u001b[0m\u001b[0;34m[\u001b[0m\u001b[0;36m0\u001b[0m\u001b[0;34m]\u001b[0m\u001b[0;34m=\u001b[0m\u001b[0;36m100\u001b[0m  \u001b[0;31m#Immutable\u001b[0m\u001b[0;34m\u001b[0m\u001b[0;34m\u001b[0m\u001b[0m\n\u001b[0m",
            "\u001b[0;31mTypeError\u001b[0m: 'tuple' object does not support item assignment"
          ]
        }
      ]
    },
    {
      "cell_type": "code",
      "source": [
        "#Can we have Mutable tuple ?---> DIY\n",
        "#Can we have Immutable List ?\n",
        "\n",
        "tup=([10,20],[30,40])  #Mutable Tuple\n",
        "lst=[(10,20),30,40]  #Immutable List"
      ],
      "metadata": {
        "id": "oYwXmrvR3Fx4"
      },
      "execution_count": null,
      "outputs": []
    },
    {
      "cell_type": "code",
      "source": [
        "#Python Sets{}: Unordered, Do not allow duplicate\n",
        "sample_set={1,2,3,4,4,5,5,6,6,6,3}\n",
        "print(type(sample_set))\n",
        "print(sample_set)\n",
        "print(sample_set[2])"
      ],
      "metadata": {
        "colab": {
          "base_uri": "https://localhost:8080/",
          "height": 231
        },
        "id": "tDRD19Ei31W6",
        "outputId": "5302ab5f-4e22-47b7-a929-c936b29a32ee"
      },
      "execution_count": null,
      "outputs": [
        {
          "output_type": "stream",
          "name": "stdout",
          "text": [
            "<class 'set'>\n",
            "{1, 2, 3, 4, 5, 6}\n"
          ]
        },
        {
          "output_type": "error",
          "ename": "TypeError",
          "evalue": "'set' object is not subscriptable",
          "traceback": [
            "\u001b[0;31m---------------------------------------------------------------------------\u001b[0m",
            "\u001b[0;31mTypeError\u001b[0m                                 Traceback (most recent call last)",
            "\u001b[0;32m<ipython-input-45-2af501d7b2ef>\u001b[0m in \u001b[0;36m<cell line: 6>\u001b[0;34m()\u001b[0m\n\u001b[1;32m      4\u001b[0m \u001b[0mprint\u001b[0m\u001b[0;34m(\u001b[0m\u001b[0msample_set\u001b[0m\u001b[0;34m)\u001b[0m\u001b[0;34m\u001b[0m\u001b[0;34m\u001b[0m\u001b[0m\n\u001b[1;32m      5\u001b[0m \u001b[0;34m\u001b[0m\u001b[0m\n\u001b[0;32m----> 6\u001b[0;31m \u001b[0mprint\u001b[0m\u001b[0;34m(\u001b[0m\u001b[0msample_set\u001b[0m\u001b[0;34m[\u001b[0m\u001b[0;36m2\u001b[0m\u001b[0;34m]\u001b[0m\u001b[0;34m)\u001b[0m\u001b[0;34m\u001b[0m\u001b[0;34m\u001b[0m\u001b[0m\n\u001b[0m",
            "\u001b[0;31mTypeError\u001b[0m: 'set' object is not subscriptable"
          ]
        }
      ]
    },
    {
      "cell_type": "code",
      "source": [
        "set_a={45,69,87,32}\n",
        "set_b={85,63,97,84,32}\n",
        "print(set_a.union(set_b))\n",
        "print(set_a.intersection(set_b))\n",
        "print(set_a.difference(set_b))"
      ],
      "metadata": {
        "colab": {
          "base_uri": "https://localhost:8080/"
        },
        "id": "2qz2V42b4T_U",
        "outputId": "289a4e0c-fab9-4729-d33a-b0dde83e44d2"
      },
      "execution_count": null,
      "outputs": [
        {
          "output_type": "stream",
          "name": "stdout",
          "text": [
            "{32, 97, 69, 45, 84, 85, 87, 63}\n",
            "{32}\n",
            "{69, 45, 87}\n"
          ]
        }
      ]
    },
    {
      "cell_type": "code",
      "source": [
        "#Remove Duplcaites\n",
        "emp=[1001, 'Amit Sharma', 'New Value', 30000, 4.6, 'Mumbai', 'Mumbai', 'Manager', 'Developer', 'Mumbai', 'Manager']"
      ],
      "metadata": {
        "id": "AxZGyWuh5ENX"
      },
      "execution_count": null,
      "outputs": []
    },
    {
      "cell_type": "code",
      "source": [
        "set_emp=set(emp)"
      ],
      "metadata": {
        "id": "zwS_VjJC5qpg"
      },
      "execution_count": null,
      "outputs": []
    },
    {
      "cell_type": "code",
      "source": [
        "emp=list(set_emp)\n",
        "print(emp)"
      ],
      "metadata": {
        "colab": {
          "base_uri": "https://localhost:8080/"
        },
        "id": "UmHCEVF-54oq",
        "outputId": "00d6a0f8-af22-4949-a018-588a787d08bf"
      },
      "execution_count": null,
      "outputs": [
        {
          "output_type": "stream",
          "name": "stdout",
          "text": [
            "[4.6, 1001, 'Manager', 'Mumbai', 'New Value', 'Developer', 30000, 'Amit Sharma']\n"
          ]
        }
      ]
    },
    {
      "cell_type": "code",
      "source": [
        "emp[100]"
      ],
      "metadata": {
        "colab": {
          "base_uri": "https://localhost:8080/",
          "height": 161
        },
        "id": "z3S-0ftS6St7",
        "outputId": "ec6d9aed-d04f-4fa0-ee86-41f36bfa9ac0"
      },
      "execution_count": null,
      "outputs": [
        {
          "output_type": "error",
          "ename": "IndexError",
          "evalue": "list index out of range",
          "traceback": [
            "\u001b[0;31m---------------------------------------------------------------------------\u001b[0m",
            "\u001b[0;31mIndexError\u001b[0m                                Traceback (most recent call last)",
            "\u001b[0;32m<ipython-input-56-da38dd37b1f5>\u001b[0m in \u001b[0;36m<cell line: 1>\u001b[0;34m()\u001b[0m\n\u001b[0;32m----> 1\u001b[0;31m \u001b[0memp\u001b[0m\u001b[0;34m[\u001b[0m\u001b[0;36m100\u001b[0m\u001b[0;34m]\u001b[0m\u001b[0;34m\u001b[0m\u001b[0;34m\u001b[0m\u001b[0m\n\u001b[0m",
            "\u001b[0;31mIndexError\u001b[0m: list index out of range"
          ]
        }
      ]
    },
    {
      "cell_type": "code",
      "source": [
        "#Membership operators: in and not in\n",
        "print(emp)\n",
        "print('Mumbai' in emp)\n",
        "print('Blore' in emp)\n",
        "print('Blore' not in emp)"
      ],
      "metadata": {
        "colab": {
          "base_uri": "https://localhost:8080/"
        },
        "id": "PXQjnH2P7Dk2",
        "outputId": "daa3dfee-ded4-4fe4-84e7-5a473ee6dbf6"
      },
      "execution_count": null,
      "outputs": [
        {
          "output_type": "stream",
          "name": "stdout",
          "text": [
            "[4.6, 1001, 'Manager', 'Mumbai', 'New Value', 'Developer', 30000, 'Amit Sharma']\n",
            "True\n",
            "False\n",
            "True\n"
          ]
        }
      ]
    },
    {
      "cell_type": "code",
      "source": [
        "#Python Dictionaries {key:value}\n",
        "emp={'empid':1001,'name':'Amit Sharma','salary':25000,'projects':['proj1','proj2'],100:'abc'}\n",
        "print(emp['name'])\n",
        "print(emp[100])"
      ],
      "metadata": {
        "colab": {
          "base_uri": "https://localhost:8080/"
        },
        "id": "UvRQ6s-j_DzR",
        "outputId": "16bb7403-9e94-45f3-af1c-6cd31eb883a9"
      },
      "execution_count": null,
      "outputs": [
        {
          "output_type": "stream",
          "name": "stdout",
          "text": [
            "Amit Sharma\n",
            "abc\n"
          ]
        }
      ]
    },
    {
      "cell_type": "code",
      "source": [
        "#Mutable: Keys can not be changes but values can\n",
        "emp['salary']=30000\n",
        "print(emp)"
      ],
      "metadata": {
        "colab": {
          "base_uri": "https://localhost:8080/"
        },
        "id": "lwKrK2BhAbKs",
        "outputId": "bc597014-d79e-4795-d7bd-cd0bfee9a333"
      },
      "execution_count": null,
      "outputs": [
        {
          "output_type": "stream",
          "name": "stdout",
          "text": [
            "{'empid': 1001, 'name': 'Amit Sharma', 'salary': 30000, 'projects': ['proj1', 'proj2'], 100: 'abc'}\n"
          ]
        }
      ]
    },
    {
      "cell_type": "code",
      "source": [
        "#Type conversions\n",
        "tup = (1, 2, 3, 4, 5, 6)\n",
        "# Convert to list\n",
        "l = list(tup)\n",
        "# Modify the element at index 3\n",
        "l[3] = 9\n",
        "# Convert back to tuple\n",
        "tup = tuple(l)\n",
        "print(tup)"
      ],
      "metadata": {
        "colab": {
          "base_uri": "https://localhost:8080/"
        },
        "id": "1Hrn7jEJBHYz",
        "outputId": "d4066f79-a3e1-443b-bbc4-dac3b2a1d433"
      },
      "execution_count": null,
      "outputs": [
        {
          "output_type": "stream",
          "name": "stdout",
          "text": [
            "(1, 2, 3, 9, 5, 6)\n"
          ]
        }
      ]
    },
    {
      "cell_type": "markdown",
      "source": [
        "**Python Functions**\n",
        "\n",
        "(Write once-use many)"
      ],
      "metadata": {
        "id": "eELVTP--Cs-3"
      }
    },
    {
      "cell_type": "code",
      "source": [
        "#Step01:Define the function\n",
        "#a,b- arguments,parameters\n",
        "def add(a,b):\n",
        "  print(a)\n",
        "  print(b)\n",
        "  return a+b"
      ],
      "metadata": {
        "id": "OXaH1VnHCFZA"
      },
      "execution_count": null,
      "outputs": []
    },
    {
      "cell_type": "code",
      "source": [
        "#Step02:Call/invoke function\n",
        "print(add(45,63))"
      ],
      "metadata": {
        "colab": {
          "base_uri": "https://localhost:8080/"
        },
        "id": "wRlu49LuEMyM",
        "outputId": "ce08d140-4e3a-4b97-d358-f168913f54e6"
      },
      "execution_count": null,
      "outputs": [
        {
          "output_type": "stream",
          "name": "stdout",
          "text": [
            "45\n",
            "63\n",
            "108\n"
          ]
        }
      ]
    },
    {
      "cell_type": "code",
      "source": [
        "print(add(100,652))"
      ],
      "metadata": {
        "colab": {
          "base_uri": "https://localhost:8080/"
        },
        "id": "5zqHUS9fEhOD",
        "outputId": "83217aa4-96f4-4607-aacb-aa2b980342a7"
      },
      "execution_count": null,
      "outputs": [
        {
          "output_type": "stream",
          "name": "stdout",
          "text": [
            "100\n",
            "652\n",
            "752\n"
          ]
        }
      ]
    },
    {
      "cell_type": "code",
      "source": [
        "result=add(874,865) #Because of return\n",
        "print(result)"
      ],
      "metadata": {
        "colab": {
          "base_uri": "https://localhost:8080/"
        },
        "id": "YFJnSEKnEmfT",
        "outputId": "c6669b8e-f0c7-452d-ead0-40be203bcc77"
      },
      "execution_count": null,
      "outputs": [
        {
          "output_type": "stream",
          "name": "stdout",
          "text": [
            "874\n",
            "865\n",
            "1739\n"
          ]
        }
      ]
    },
    {
      "cell_type": "code",
      "source": [
        "#Types of Arguments\n",
        "#1.Required positional Arguments\n",
        "\n",
        "def func1(name,age):\n",
        "  print(f\"My name is {name} and I am {age} years old\")\n",
        "\n",
        "func1('Amit',56)\n",
        "#func1('Rajesh')\n",
        "func1(56,'Rajesh')"
      ],
      "metadata": {
        "colab": {
          "base_uri": "https://localhost:8080/"
        },
        "id": "K6HzzgcmFbUB",
        "outputId": "35c39c94-1f62-4b47-c227-595b3b764c9d"
      },
      "execution_count": null,
      "outputs": [
        {
          "output_type": "stream",
          "name": "stdout",
          "text": [
            "My name is Amit and I am 56 years old\n",
            "My name is 56 and I am Rajesh years old\n"
          ]
        }
      ]
    },
    {
      "cell_type": "code",
      "source": [
        "#2.Key-Word Arguments\n",
        "\n",
        "def func2(name,age):\n",
        "  print(f\"My name is {name} and I am {age} years old\")\n",
        "\n",
        "func2(name='Amit',age=56)\n",
        "func2(age=40,name='Raghav')"
      ],
      "metadata": {
        "colab": {
          "base_uri": "https://localhost:8080/"
        },
        "id": "0AIHYNq5GuQ7",
        "outputId": "ff2d19f0-b7e4-4027-be44-bf64effe0ec3"
      },
      "execution_count": null,
      "outputs": [
        {
          "output_type": "stream",
          "name": "stdout",
          "text": [
            "My name is Amit and I am 56 years old\n",
            "My name is Raghav and I am 40 years old\n"
          ]
        }
      ]
    },
    {
      "cell_type": "code",
      "source": [
        "#3.Default Arguments\n",
        "def func3(name,age=30):\n",
        "  print(f\"My name is {name} and I am {age} years old\")\n",
        "\n",
        "func3('Amit')\n",
        "func3('Raghav',56)"
      ],
      "metadata": {
        "colab": {
          "base_uri": "https://localhost:8080/"
        },
        "id": "Ul4CdswzIBov",
        "outputId": "e51d29d3-e4df-47f6-bffd-c85c80d84896"
      },
      "execution_count": null,
      "outputs": [
        {
          "output_type": "stream",
          "name": "stdout",
          "text": [
            "My name is Amit and I am 30 years old\n",
            "My name is Raghav and I am 30 years old\n"
          ]
        }
      ]
    },
    {
      "cell_type": "code",
      "source": [
        "#4.Arbitary Arguments\n",
        "def func4(*names):\n",
        "  for name in names:\n",
        "    print(\"Hi\",name)"
      ],
      "metadata": {
        "id": "T-eh2328JYvt"
      },
      "execution_count": null,
      "outputs": []
    },
    {
      "cell_type": "code",
      "source": [
        "func4('Kapil','Fahad','Rani','Pratosh')"
      ],
      "metadata": {
        "colab": {
          "base_uri": "https://localhost:8080/"
        },
        "id": "3FZVJ1jPJ-8t",
        "outputId": "5ba8db33-5c0c-4ceb-969f-c2b03013b90e"
      },
      "execution_count": null,
      "outputs": [
        {
          "output_type": "stream",
          "name": "stdout",
          "text": [
            "Hi Kapil\n",
            "Hi Fahad\n",
            "Hi Rani\n",
            "Hi Pratosh\n"
          ]
        }
      ]
    },
    {
      "cell_type": "code",
      "source": [
        "#Alternate to Arbitary Arguments\n",
        "def func5(names):\n",
        "  for name in names:\n",
        "    print(\"Hi\",name)"
      ],
      "metadata": {
        "id": "EWguT8GOKJRA"
      },
      "execution_count": null,
      "outputs": []
    },
    {
      "cell_type": "code",
      "source": [
        "func5(['Kapil','Fahad','Rani','Pratosh'])"
      ],
      "metadata": {
        "colab": {
          "base_uri": "https://localhost:8080/"
        },
        "id": "pZuWl-uXKfeQ",
        "outputId": "079c31ca-f45b-43ff-c849-ebcc6a0a667f"
      },
      "execution_count": null,
      "outputs": [
        {
          "output_type": "stream",
          "name": "stdout",
          "text": [
            "Hi Kapil\n",
            "Hi Fahad\n",
            "Hi Rani\n",
            "Hi Pratosh\n"
          ]
        }
      ]
    },
    {
      "cell_type": "code",
      "source": [
        "func5(('Kapil','Fahad','Rani','Pratosh'))"
      ],
      "metadata": {
        "colab": {
          "base_uri": "https://localhost:8080/"
        },
        "id": "h3ozSum_LvXh",
        "outputId": "04b7f86c-1496-4211-e57d-eb4585a2a654"
      },
      "execution_count": null,
      "outputs": [
        {
          "output_type": "stream",
          "name": "stdout",
          "text": [
            "Hi Kapil\n",
            "Hi Fahad\n",
            "Hi Rani\n",
            "Hi Pratosh\n"
          ]
        }
      ]
    },
    {
      "cell_type": "code",
      "source": [
        "#5.Key-Arbitary Arguments--->Do it your self"
      ],
      "metadata": {
        "id": "aT-oUiB4KzSM"
      },
      "execution_count": null,
      "outputs": []
    },
    {
      "cell_type": "code",
      "source": [
        "def my_func(name='Ravi', age):\n",
        "    print(\"my name is \",name)\n",
        "\n",
        "my_func(23)"
      ],
      "metadata": {
        "id": "Dzo44_-2NOvr"
      },
      "execution_count": null,
      "outputs": []
    },
    {
      "cell_type": "code",
      "source": [
        "#alternative to arbitary arguments\n",
        "def func5(names):\n",
        "  for name in names:\n",
        "    print(\"hi\",name)\n",
        "func5(['kapil','farhad', 'rani'])"
      ],
      "metadata": {
        "colab": {
          "base_uri": "https://localhost:8080/"
        },
        "id": "6EHxnUF6REIQ",
        "outputId": "c60cce2e-0147-4f63-f4f1-a6449c4bd853"
      },
      "execution_count": null,
      "outputs": [
        {
          "output_type": "stream",
          "name": "stdout",
          "text": [
            "hi kapil\n",
            "hi farhad\n",
            "hi rani\n"
          ]
        }
      ]
    },
    {
      "cell_type": "code",
      "source": [],
      "metadata": {
        "id": "LCWQe0q8RMKI"
      },
      "execution_count": null,
      "outputs": []
    }
  ]
}